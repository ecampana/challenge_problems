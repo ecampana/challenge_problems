{
 "cells": [
  {
   "cell_type": "markdown",
   "metadata": {},
   "source": [
    "# Algorithms: Merging, Sorting, and Searching \n",
    "\n",
    "__Notebook by Emmanuel Contreras-Campana, PhD__"
   ]
  },
  {
   "cell_type": "markdown",
   "metadata": {},
   "source": [
    "## Merging"
   ]
  },
  {
   "cell_type": "code",
   "execution_count": null,
   "metadata": {
    "collapsed": true
   },
   "outputs": [],
   "source": [
    "from heapq import merge"
   ]
  },
  {
   "cell_type": "code",
   "execution_count": null,
   "metadata": {
    "collapsed": true
   },
   "outputs": [],
   "source": [
    "# merging two sorted arrays to produce a third sorted array\n",
    "def merge_sorted_lists(a, b):\n",
    "    c = []\n",
    "    \n",
    "    while a and b:\n",
    "        i = a[0]\n",
    "        j = b[0]\n",
    "        \n",
    "        if j < i:\n",
    "            c.append(j)\n",
    "            b.remove(j)\n",
    "        else:\n",
    "            c.append(i)\n",
    "            a.remove(i)\n",
    "    \n",
    "    return c + a + b"
   ]
  },
  {
   "cell_type": "code",
   "execution_count": null,
   "metadata": {
    "collapsed": true
   },
   "outputs": [],
   "source": [
    "# merging two sorted arrays to produce a third sorted array\n",
    "def merge_sorted_lists2(a, b):\n",
    "    c = []\n",
    "    for j in b:\n",
    "        for i in a:\n",
    "            if j < i:\n",
    "                c.append(j)\n",
    "                break\n",
    "            elif i not in c:\n",
    "                c.append(i)\n",
    "\n",
    "    d = [k for k in a if k not in c]\n",
    "    e = [r for r in b if r not in c]\n",
    "    \n",
    "    return c + d + e"
   ]
  },
  {
   "cell_type": "code",
   "execution_count": null,
   "metadata": {
    "collapsed": true
   },
   "outputs": [],
   "source": [
    "def merge(left, right):\n",
    "    \"\"\"Takes two sorted lists and returns a single sorted list by comparing the\n",
    "    elements one at a time.\n",
    "    [1, 2, 3, 4, 5, 6]\n",
    "    \"\"\"\n",
    "    if not left:\n",
    "        return right\n",
    "    if not right:\n",
    "        return left\n",
    "    if left[0] < right[0]:\n",
    "        return [left[0]] + merge(left[1:], right)\n",
    "    return [right[0]] + merge(left, right[1:])"
   ]
  },
  {
   "cell_type": "code",
   "execution_count": null,
   "metadata": {
    "collapsed": true
   },
   "outputs": [],
   "source": [
    "# case 1\n",
    "a = [5, 6]\n",
    "b = [1, 2, 3, 4]\n",
    "\n",
    "# case 2\n",
    "c = [1, 2, 3, 4]\n",
    "d = [5, 6]\n",
    "\n",
    "# case 3\n",
    "e = [1, 5, 7]\n",
    "f = [2, 3]\n",
    "\n",
    "# case 4\n",
    "g = [2, 3]\n",
    "h = [1, 5, 7]"
   ]
  },
  {
   "cell_type": "code",
   "execution_count": null,
   "metadata": {},
   "outputs": [],
   "source": [
    "print merge_sorted_lists(a, b)\n",
    "print merge_sorted_lists(c, d)\n",
    "print merge_sorted_lists(e, f)\n",
    "print merge_sorted_lists(g, h)"
   ]
  },
  {
   "cell_type": "code",
   "execution_count": null,
   "metadata": {},
   "outputs": [],
   "source": [
    "list(merge(a, b))"
   ]
  },
  {
   "cell_type": "markdown",
   "metadata": {},
   "source": [
    "## Sorting"
   ]
  },
  {
   "cell_type": "markdown",
   "metadata": {},
   "source": [
    "### 1. Counting sort\n",
    "\n",
    "Counting sort is an integer sorting algorithm. Additionaly, it is a special case of bucket sort, which is itself a type of distribution sort. This is a non-comparison-based integer sorting algorithm."
   ]
  },
  {
   "cell_type": "code",
   "execution_count": null,
   "metadata": {
    "collapsed": true
   },
   "outputs": [],
   "source": [
    "# test case\n",
    "a = [2, 10, 8, 7, 9, 5, 11]\n",
    "b = [10, -2, 8, 2, 4, -6, 1, -2]"
   ]
  },
  {
   "cell_type": "code",
   "execution_count": null,
   "metadata": {
    "collapsed": true
   },
   "outputs": [],
   "source": [
    "# counting sort\n",
    "# url: https://en.wikipedia.org/wiki/Counting_sort\n",
    "def counting_sort(lst):\n",
    "    \"\"\"\n",
    "    Counting sort\n",
    "    \n",
    "    Parameters\n",
    "    ----------\n",
    "    lst : list of non-negative integers\n",
    "    \n",
    "    Returns\n",
    "    -------\n",
    "    output : sorted list of non-negative integers\n",
    "    \n",
    "    \"\"\"\n",
    "    # initialize output\n",
    "    output = []\n",
    "\n",
    "    # initialize histogram with zeros\n",
    "    bins = max(lst)+1\n",
    "    hist = [0]*bins \n",
    "    \n",
    "    # compute number of times each element\n",
    "    # occurs within the input collection\n",
    "    for l in lst:\n",
    "        hist[l] = hist[l]+1\n",
    "    \n",
    "    # produce output array\n",
    "    for pos, val in enumerate(hist):\n",
    "        while val:\n",
    "            output.append(pos)\n",
    "            val = val-1\n",
    "            \n",
    "    return output"
   ]
  },
  {
   "cell_type": "code",
   "execution_count": null,
   "metadata": {},
   "outputs": [],
   "source": [
    "%%timeit\n",
    "counting_sort(a)"
   ]
  },
  {
   "cell_type": "code",
   "execution_count": null,
   "metadata": {
    "collapsed": true
   },
   "outputs": [],
   "source": [
    "# counting sort\n",
    "# url: https://en.wikipedia.org/wiki/Counting_sort\n",
    "def general_counting_sort(lst):\n",
    "    \"\"\"\n",
    "    Counting sort\n",
    "    \n",
    "    Parameters\n",
    "    ----------\n",
    "    lst : list of integers\n",
    "    \n",
    "    Returns\n",
    "    -------\n",
    "    output : sorted list of non-negative integers\n",
    "    \"\"\"\n",
    "    \n",
    "    # initialize output\n",
    "    output = []\n",
    "\n",
    "    # initialize histogram with zeros\n",
    "    shift = abs(min(lst))\n",
    "    bins = shift+max(lst)+1\n",
    "    hist = [0]*bins \n",
    "    \n",
    "    # compute number of times each element\n",
    "    # occurs within the input collection\n",
    "    for l in lst:\n",
    "        hist[l+shift] = hist[l+shift]+1\n",
    "    \n",
    "    # produce output array\n",
    "    for pos, val in enumerate(hist):\n",
    "        while val:\n",
    "            output.append(pos-shift)\n",
    "            val = val-1\n",
    "            \n",
    "    return output"
   ]
  },
  {
   "cell_type": "code",
   "execution_count": null,
   "metadata": {},
   "outputs": [],
   "source": [
    "%%timeit\n",
    "general_counting_sort(b)"
   ]
  },
  {
   "cell_type": "code",
   "execution_count": null,
   "metadata": {},
   "outputs": [],
   "source": [
    "general_counting_sort(b)"
   ]
  },
  {
   "cell_type": "markdown",
   "metadata": {},
   "source": [
    "### 2. Insertion sort"
   ]
  },
  {
   "cell_type": "code",
   "execution_count": null,
   "metadata": {
    "collapsed": true
   },
   "outputs": [],
   "source": [
    "def insertion_sort(alist):\n",
    "    for index in range(1,len(alist)):\n",
    "        currentvalue = alist[index]\n",
    "        position = index\n",
    "\n",
    "        while position > 0 and alist[position-1] > currentvalue:\n",
    "            alist[position] = alist[position-1]\n",
    "            position = position-1\n",
    "\n",
    "        alist[position]=currentvalue\n",
    "    \n",
    "    return alist"
   ]
  },
  {
   "cell_type": "code",
   "execution_count": null,
   "metadata": {},
   "outputs": [],
   "source": [
    "alist = [54, 26, 93, 17, 77, 31, 44, 55, 20]\n",
    "\n",
    "insertion_sort(alist)"
   ]
  },
  {
   "cell_type": "code",
   "execution_count": null,
   "metadata": {
    "collapsed": true
   },
   "outputs": [],
   "source": [
    "def bubble_sort(lst):\n",
    "    \"Sorts lst in place and returns it.\"\n",
    "    for passesLeft in range(len(lst)-1, 0, -1):\n",
    "        for index in range(passesLeft):\n",
    "            if lst[index] > lst[index + 1]:\n",
    "                lst[index], lst[index + 1] = lst[index + 1], lst[index]\n",
    "    return lst"
   ]
  },
  {
   "cell_type": "code",
   "execution_count": null,
   "metadata": {},
   "outputs": [],
   "source": [
    "alist = [54, 26, 93, 17, 77, 31, 44, 55, 20]\n",
    "\n",
    "bubble_sort(alist)"
   ]
  },
  {
   "cell_type": "markdown",
   "metadata": {},
   "source": [
    "### 3. Tim sort"
   ]
  },
  {
   "cell_type": "code",
   "execution_count": null,
   "metadata": {
    "collapsed": true
   },
   "outputs": [],
   "source": [
    "def timsort(the_array):\n",
    "    runs, sorted_runs = [], []\n",
    "    l = len(the_array)\n",
    "    new_run = [the_array[0]]\n",
    "    for i in range(1, l):\n",
    "        if i == l-1:\n",
    "            new_run.append(the_array[i])\n",
    "            runs.append(new_run)\n",
    "            break\n",
    "        if the_array[i] < the_array[i-1]:\n",
    "            if not new_run:\n",
    "                runs.append([the_array[i-1]])\n",
    "                new_run.append(the_array[i])\n",
    "            else:\n",
    "                runs.append(new_run)\n",
    "                new_run = []\n",
    "        else:\n",
    "            new_run.append(the_array[i])\n",
    "    for each in runs:\n",
    "        sorted_runs.append(insertion_sort(each))\n",
    "    sorted_array = []\n",
    "    for run in sorted_runs:\n",
    "        sorted_array = merge(sorted_array, run)\n",
    "    return sorted_array"
   ]
  },
  {
   "cell_type": "markdown",
   "metadata": {},
   "source": [
    "## Searching"
   ]
  },
  {
   "cell_type": "markdown",
   "metadata": {},
   "source": [
    "### 1. Binary search"
   ]
  },
  {
   "cell_type": "code",
   "execution_count": null,
   "metadata": {
    "collapsed": true
   },
   "outputs": [],
   "source": [
    "# binary search of target value\n",
    "def binary_search(lst, tgt):\n",
    "    \"\"\"\n",
    "    Binary search\n",
    "    \n",
    "    Parameters\n",
    "    ----------\n",
    "    lst : list of ordered integers\n",
    "    tgt : target value\n",
    "    \n",
    "    Returns\n",
    "    -------\n",
    "    output : position of target value if found\n",
    "    \"\"\"\n",
    "    min = 0\n",
    "    max = len(lst) - 1\n",
    "    \n",
    "    while True:\n",
    "        if max < min:\n",
    "            return -1\n",
    "        m = (min + max) // 2\n",
    "        if lst[m] < tgt:\n",
    "            min = m + 1\n",
    "        elif lst[m] > tgt:\n",
    "            max = m - 1\n",
    "        else:\n",
    "            return m"
   ]
  },
  {
   "cell_type": "code",
   "execution_count": null,
   "metadata": {
    "collapsed": true
   },
   "outputs": [],
   "source": [
    "def binary_search(the_array, item, start, end):\n",
    "    if start == end:\n",
    "        if the_array[start] > item:\n",
    "            return start\n",
    "        else:\n",
    "            return start + 1\n",
    "    if start > end:\n",
    "        return start\n",
    "\n",
    "    mid = (start + end)/ 2\n",
    "    if the_array[mid] < item:\n",
    "        return binary_search(the_array, item, mid + 1, end)\n",
    "    elif the_array[mid] > item:\n",
    "        return binary_search(the_array, item, start, mid - 1)\n",
    "    else:\n",
    "        return mid"
   ]
  },
  {
   "cell_type": "code",
   "execution_count": null,
   "metadata": {
    "collapsed": true
   },
   "outputs": [],
   "source": [
    "a = [1, 5, 8, 10]"
   ]
  },
  {
   "cell_type": "code",
   "execution_count": null,
   "metadata": {},
   "outputs": [],
   "source": [
    "print binary_search(a, 5)\n",
    "print binary_search(a, 0)\n",
    "print binary_search(a, 15)"
   ]
  },
  {
   "cell_type": "code",
   "execution_count": null,
   "metadata": {
    "collapsed": true
   },
   "outputs": [],
   "source": []
  }
 ],
 "metadata": {
  "kernelspec": {
   "display_name": "Python 2",
   "language": "python",
   "name": "python2"
  },
  "language_info": {
   "codemirror_mode": {
    "name": "ipython",
    "version": 2
   },
   "file_extension": ".py",
   "mimetype": "text/x-python",
   "name": "python",
   "nbconvert_exporter": "python",
   "pygments_lexer": "ipython2",
   "version": "2.7.13"
  }
 },
 "nbformat": 4,
 "nbformat_minor": 2
}
