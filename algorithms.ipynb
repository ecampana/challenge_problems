{
 "cells": [
  {
   "cell_type": "markdown",
   "metadata": {},
   "source": [
    "# Algorithms: Merging, Sorting, and Searching \n",
    "\n",
    "__Notebook by Emmanuel Contreras-Campana, PhD__"
   ]
  },
  {
   "cell_type": "markdown",
   "metadata": {},
   "source": [
    "## Merging"
   ]
  },
  {
   "cell_type": "code",
   "execution_count": null,
   "metadata": {
    "collapsed": true
   },
   "outputs": [],
   "source": [
    "from heapq import merge"
   ]
  },
  {
   "cell_type": "code",
   "execution_count": null,
   "metadata": {
    "collapsed": true
   },
   "outputs": [],
   "source": [
    "# merging two sorted arrays to produce a third sorted array\n",
    "def merge_sorted_lists(a, b):\n",
    "    c = []\n",
    "    \n",
    "    while a and b:\n",
    "        i = a[0]\n",
    "        j = b[0]\n",
    "        \n",
    "        if j < i:\n",
    "            c.append(j)\n",
    "            b.remove(j)\n",
    "        else:\n",
    "            c.append(i)\n",
    "            a.remove(i)\n",
    "    \n",
    "    return c + a + b"
   ]
  },
  {
   "cell_type": "code",
   "execution_count": null,
   "metadata": {
    "collapsed": true
   },
   "outputs": [],
   "source": [
    "# merging two sorted arrays to produce a third sorted array\n",
    "def merge_sorted_lists2(a, b):\n",
    "    c = []\n",
    "    for j in b:\n",
    "        for i in a:\n",
    "            if j < i:\n",
    "                c.append(j)\n",
    "                break\n",
    "            elif i not in c:\n",
    "                c.append(i)\n",
    "\n",
    "    d = [k for k in a if k not in c]\n",
    "    e = [r for r in b if r not in c]\n",
    "    \n",
    "    return c + d + e"
   ]
  },
  {
   "cell_type": "code",
   "execution_count": null,
   "metadata": {
    "collapsed": true
   },
   "outputs": [],
   "source": [
    "def merge(left, right):\n",
    "    \"\"\"Takes two sorted lists and returns a single sorted list by comparing the\n",
    "    elements one at a time.\n",
    "    [1, 2, 3, 4, 5, 6]\n",
    "    \"\"\"\n",
    "    if not left:\n",
    "        return right\n",
    "    if not right:\n",
    "        return left\n",
    "    if left[0] < right[0]:\n",
    "        return [left[0]] + merge(left[1:], right)\n",
    "    return [right[0]] + merge(left, right[1:])"
   ]
  },
  {
   "cell_type": "code",
   "execution_count": null,
   "metadata": {
    "collapsed": true
   },
   "outputs": [],
   "source": [
    "# case 1\n",
    "a = [5, 6]\n",
    "b = [1, 2, 3, 4]\n",
    "\n",
    "# case 2\n",
    "c = [1, 2, 3, 4]\n",
    "d = [5, 6]\n",
    "\n",
    "# case 3\n",
    "e = [1, 5, 7]\n",
    "f = [2, 3]\n",
    "\n",
    "# case 4\n",
    "g = [2, 3]\n",
    "h = [1, 5, 7]"
   ]
  },
  {
   "cell_type": "code",
   "execution_count": null,
   "metadata": {
    "collapsed": true
   },
   "outputs": [],
   "source": [
    "print merge_sorted_lists(a, b)\n",
    "print merge_sorted_lists(c, d)\n",
    "print merge_sorted_lists(e, f)\n",
    "print merge_sorted_lists(g, h)"
   ]
  },
  {
   "cell_type": "code",
   "execution_count": null,
   "metadata": {
    "collapsed": true
   },
   "outputs": [],
   "source": [
    "list(merge(a, b))"
   ]
  },
  {
   "cell_type": "markdown",
   "metadata": {},
   "source": [
    "## Sorting"
   ]
  },
  {
   "cell_type": "markdown",
   "metadata": {},
   "source": [
    "### 1. Counting sort\n",
    "\n",
    "Counting sort is an integer sorting algorithm. Additionally, it is a special case of bucket sort, which is itself a type of distribution sort. This is a non-comparison-based integer sorting algorithm."
   ]
  },
  {
   "cell_type": "markdown",
   "metadata": {},
   "source": [
    "#### A. Positive integers only"
   ]
  },
  {
   "cell_type": "code",
   "execution_count": null,
   "metadata": {
    "collapsed": true
   },
   "outputs": [],
   "source": [
    "# counting sort\n",
    "# url: https://en.wikipedia.org/wiki/Counting_sort\n",
    "def counting_sort(lst):\n",
    "    \"\"\"\n",
    "    Counting sort\n",
    "    \n",
    "    Parameters\n",
    "    ----------\n",
    "    lst : list of non-negative integers\n",
    "    \n",
    "    Returns\n",
    "    -------\n",
    "    output : sorted list of non-negative integers\n",
    "    \n",
    "    \"\"\"\n",
    "    # initialize output\n",
    "    output = []\n",
    "\n",
    "    # initialize histogram with zeros\n",
    "    bins = max(lst)+1\n",
    "    hist = [0]*bins \n",
    "    \n",
    "    # compute number of times each element\n",
    "    # occurs within the input collection\n",
    "    for l in lst:\n",
    "        hist[l] = hist[l]+1\n",
    "    \n",
    "    # produce output array\n",
    "    for pos, val in enumerate(hist):\n",
    "        while val:\n",
    "            output.append(pos)\n",
    "            val = val-1\n",
    "            \n",
    "    return output"
   ]
  },
  {
   "cell_type": "code",
   "execution_count": null,
   "metadata": {
    "collapsed": true
   },
   "outputs": [],
   "source": [
    "a = [2, 10, 8, 7, 9, 5, 11]\n",
    "b = [10, -2, 8, 2, 4, -6, 1, -2]\n",
    "\n",
    "counting_sort(a)"
   ]
  },
  {
   "cell_type": "markdown",
   "metadata": {},
   "source": [
    "#### B. All integers"
   ]
  },
  {
   "cell_type": "code",
   "execution_count": null,
   "metadata": {
    "collapsed": true
   },
   "outputs": [],
   "source": [
    "# counting sort\n",
    "# url: https://en.wikipedia.org/wiki/Counting_sort\n",
    "def general_counting_sort(lst):\n",
    "    \"\"\"\n",
    "    Counting sort\n",
    "    \n",
    "    Parameters\n",
    "    ----------\n",
    "    lst : list of integers\n",
    "    \n",
    "    Returns\n",
    "    -------\n",
    "    output : sorted list of non-negative integers\n",
    "    \"\"\"\n",
    "    \n",
    "    # initialize output\n",
    "    output = []\n",
    "\n",
    "    # initialize histogram with zeros\n",
    "    shift = abs(min(lst))\n",
    "    bins = shift+max(lst)+1\n",
    "    hist = [0]*bins \n",
    "    \n",
    "    # compute number of times each element\n",
    "    # occurs within the input collection\n",
    "    for l in lst:\n",
    "        hist[l+shift] = hist[l+shift]+1\n",
    "    \n",
    "    # produce output array\n",
    "    for pos, val in enumerate(hist):\n",
    "        while val:\n",
    "            output.append(pos-shift)\n",
    "            val = val-1\n",
    "            \n",
    "    return output"
   ]
  },
  {
   "cell_type": "code",
   "execution_count": null,
   "metadata": {
    "collapsed": true
   },
   "outputs": [],
   "source": [
    "general_counting_sort(b)"
   ]
  },
  {
   "cell_type": "markdown",
   "metadata": {},
   "source": [
    "### 2. Bubble sort"
   ]
  },
  {
   "cell_type": "code",
   "execution_count": null,
   "metadata": {
    "collapsed": true
   },
   "outputs": [],
   "source": [
    "def swap(lst, i, j):\n",
    "    # swap elements in list\n",
    "    lst[i], lst[j] = lst[j], lst[i]\n",
    "    \n",
    "    return None"
   ]
  },
  {
   "cell_type": "code",
   "execution_count": null,
   "metadata": {
    "collapsed": true
   },
   "outputs": [],
   "source": [
    "def bubble_sort(lst):\n",
    "    # number of elements\n",
    "    n = len(lst)\n",
    "    for outer_index in range(0, n-1):\n",
    "        for inner_index in range(0, n-1-outer_index):\n",
    "            if lst[inner_index] > lst[inner_index+1]:\n",
    "                swap(lst, inner_index, inner_index+1)\n",
    "    return lst"
   ]
  },
  {
   "cell_type": "code",
   "execution_count": null,
   "metadata": {
    "collapsed": true
   },
   "outputs": [],
   "source": [
    "a = [54, 26, 93, 17, 77, 31, 44, 55, 20]\n",
    "\n",
    "bubble_sort(a)"
   ]
  },
  {
   "cell_type": "markdown",
   "metadata": {},
   "source": [
    "### 3. Quicksort\n",
    "\n",
    "Quicksort is a comparison sort, meaning that it can sort items of any type for which a \"less-than\" relation (formally, a total order) is defined. There are various quicksort algorithms that depend on the pivot selection method and partition scheme to help optimize runtime."
   ]
  },
  {
   "cell_type": "code",
   "execution_count": null,
   "metadata": {
    "collapsed": true
   },
   "outputs": [],
   "source": [
    "from random import *"
   ]
  },
  {
   "cell_type": "code",
   "execution_count": null,
   "metadata": {
    "collapsed": true
   },
   "outputs": [],
   "source": [
    "def swap(lst, i, j):\n",
    "    # swap elements in list\n",
    "    lst[i], lst[j] = lst[j], lst[i]\n",
    "    \n",
    "    return None"
   ]
  },
  {
   "cell_type": "code",
   "execution_count": null,
   "metadata": {
    "collapsed": true
   },
   "outputs": [],
   "source": [
    "# pivot selection\n",
    "def get_pivot_index(lst, start_index, end_index,\n",
    "                    method=\"median_of_three\"):\n",
    "    # median-of-three method to choose pivot index\n",
    "    if method == \"median_of_three\":\n",
    "        # find the index of the median of three array elements\n",
    "        mid_index = (start_index + end_index)//2\n",
    "        \n",
    "        # sort all three values\n",
    "        lst_sorted = sorted([lst[start_index], lst[mid_index], lst[end_index]])\n",
    "        \n",
    "        # find index of median value\n",
    "        if lst[start_index] == lst_sorted[1]:\n",
    "            pivot_index = start_index\n",
    "        elif lst[mid_index] == lst_sorted[1]:\n",
    "            pivot_index = mid_index\n",
    "        else:\n",
    "            pivot_index = end_index\n",
    "    \n",
    "    # first method to choose pivot index\n",
    "    elif method == \"first\":\n",
    "        pivot_index = start_index\n",
    "        \n",
    "    # last method to choose pivot index\n",
    "    elif method == \"last\":\n",
    "        pivot_index = start_index\n",
    "        \n",
    "    # random method to choose pivot index\n",
    "    elif method == \"random\":\n",
    "        pivot_index = randint(start_index, end_index)\n",
    "        \n",
    "    return pivot_index"
   ]
  },
  {
   "cell_type": "markdown",
   "metadata": {},
   "source": [
    "#### A. Hoare partition scheme\n",
    "\n",
    "In this scheme, the pivot is not necssarily at it's final place within the array when the partition index is returned."
   ]
  },
  {
   "cell_type": "code",
   "execution_count": null,
   "metadata": {
    "collapsed": true
   },
   "outputs": [],
   "source": [
    "# Hoare partition scheme\n",
    "def hoare_partition(lst, start_index, high_index):\n",
    "    # set initial index of partitions\n",
    "    left_partition_index = start_index - 1\n",
    "    right_partition_index = high_index + 1\n",
    "\n",
    "    # select pivot\n",
    "    pivot_index = get_pivot_index(lst, start_index, high_index)\n",
    "    pivot_value = lst[pivot_index]\n",
    "        \n",
    "    while True:\n",
    "        while True:\n",
    "            left_partition_index = left_partition_index + 1\n",
    "\n",
    "            if lst[left_partition_index] >= pivot_value:\n",
    "                break\n",
    "\n",
    "        while True:\n",
    "            right_partition_index = right_partition_index - 1\n",
    "\n",
    "            if lst[right_partition_index] <= pivot_value:\n",
    "                break\n",
    "\n",
    "        if left_partition_index < right_partition_index:\n",
    "            swap(lst, left_partition_index, right_partition_index)\n",
    "        else:\n",
    "            return right_partition_index"
   ]
  },
  {
   "cell_type": "code",
   "execution_count": null,
   "metadata": {
    "collapsed": true
   },
   "outputs": [],
   "source": [
    "def quick_sort_subarray(lst, start_index, high_index):\n",
    "    # make sure lower index has a smaller value than high index\n",
    "    if start_index < high_index:\n",
    "        # partition scheme\n",
    "        partition_index = hoare_partition(lst, start_index, high_index)\n",
    "    \n",
    "        # sort subarrays\n",
    "        quick_sort_subarray(lst, start_index, partition_index)\n",
    "        quick_sort_subarray(lst, partition_index+1, high_index)\n",
    "\n",
    "    return lst\n",
    "\n",
    "def quick_sort(lst):\n",
    "    return quick_sort_subarray(lst, 0, len(lst)-1)"
   ]
  },
  {
   "cell_type": "code",
   "execution_count": null,
   "metadata": {
    "collapsed": true,
    "scrolled": true
   },
   "outputs": [],
   "source": [
    "a = [3, 7, 8, 5, 2, 1, 9, 4]\n",
    "\n",
    "b = quick_sort(a)\n",
    "\n",
    "print b"
   ]
  },
  {
   "cell_type": "markdown",
   "metadata": {},
   "source": [
    "#### B. Lomuto partition scheme"
   ]
  },
  {
   "cell_type": "code",
   "execution_count": null,
   "metadata": {
    "collapsed": true
   },
   "outputs": [],
   "source": [
    "# Lomuto partition scheme\n",
    "def lomuto_partition(lst, start_index, high_index):\n",
    "    # set initial index of partition\n",
    "    partition_index = start_index\n",
    "\n",
    "    # select pivot\n",
    "    pivot_index = get_pivot_index(lst, start_index, high_index)\n",
    "    pivot_value = lst[pivot_index]\n",
    "\n",
    "    # swap pivot and low elements\n",
    "    swap(lst, pivot_index, start_index)\n",
    "\n",
    "    for i in range(start_index+1, high_index+1):\n",
    "        if lst[i] < pivot_value:\n",
    "            partition_index = partition_index + 1\n",
    "            swap(lst, partition_index, i)\n",
    "\n",
    "    swap(lst, start_index, partition_index)\n",
    "\n",
    "    return partition_index"
   ]
  },
  {
   "cell_type": "code",
   "execution_count": null,
   "metadata": {
    "collapsed": true
   },
   "outputs": [],
   "source": [
    "def quick_sort_subarray(lst, start_index, high_index):\n",
    "    # make sure lower index has a smaller value than high index\n",
    "    if start_index < high_index:\n",
    "        # partition scheme\n",
    "        partition_index = lomuto_partition(lst, start_index, high_index)\n",
    "    \n",
    "        # sort subarrays\n",
    "        quick_sort_subarray(lst, start_index, partition_index-1)\n",
    "        quick_sort_subarray(lst, partition_index+1, high_index)\n",
    "\n",
    "    return lst\n",
    "\n",
    "def quick_sort(lst):\n",
    "    return quick_sort_subarray(lst, 0, len(lst)-1)"
   ]
  },
  {
   "cell_type": "code",
   "execution_count": null,
   "metadata": {
    "collapsed": true
   },
   "outputs": [],
   "source": [
    "a = [3, 7, 8, 5, 2, 1, 9, 4]\n",
    "\n",
    "b = quick_sort(a)\n",
    "\n",
    "print b"
   ]
  },
  {
   "cell_type": "markdown",
   "metadata": {},
   "source": [
    "#### C. Dutch National Flag partition scheme\n",
    "\n",
    "Optimizes for arrays with many repeated elements."
   ]
  },
  {
   "cell_type": "code",
   "execution_count": null,
   "metadata": {
    "collapsed": true
   },
   "outputs": [],
   "source": [
    "a = [1, 4, 2, 4, 2, 4, 1, 2, 4, 1, 2, 2, 2, 2, 4, 1, 4, 4, 4]\n",
    "\n",
    "b = quick_sort(a)\n",
    "\n",
    "print b"
   ]
  },
  {
   "cell_type": "markdown",
   "metadata": {},
   "source": [
    "### 4. Insertion sort"
   ]
  },
  {
   "cell_type": "code",
   "execution_count": null,
   "metadata": {
    "collapsed": true
   },
   "outputs": [],
   "source": [
    "def insertion_sort(alist):\n",
    "    for index in range(1,len(alist)):\n",
    "        currentvalue = alist[index]\n",
    "        position = index\n",
    "\n",
    "        while position > 0 and alist[position-1] > currentvalue:\n",
    "            alist[position] = alist[position-1]\n",
    "            position = position-1\n",
    "\n",
    "        alist[position]=currentvalue\n",
    "    \n",
    "    return alist"
   ]
  },
  {
   "cell_type": "code",
   "execution_count": null,
   "metadata": {
    "collapsed": true
   },
   "outputs": [],
   "source": [
    "a = [54, 26, 93, 17, 77, 31, 44, 55, 20]\n",
    "\n",
    "insertion_sort(a)"
   ]
  },
  {
   "cell_type": "markdown",
   "metadata": {},
   "source": [
    "### 5. Merge sort"
   ]
  },
  {
   "cell_type": "markdown",
   "metadata": {},
   "source": [
    "### 6. Heap sort"
   ]
  },
  {
   "cell_type": "markdown",
   "metadata": {},
   "source": [
    "### 7. Tim sort"
   ]
  },
  {
   "cell_type": "code",
   "execution_count": null,
   "metadata": {
    "collapsed": true
   },
   "outputs": [],
   "source": [
    "def timsort(the_array):\n",
    "    runs, sorted_runs = [], []\n",
    "    l = len(the_array)\n",
    "    new_run = [the_array[0]]\n",
    "    for i in range(1, l):\n",
    "        if i == l-1:\n",
    "            new_run.append(the_array[i])\n",
    "            runs.append(new_run)\n",
    "            break\n",
    "        if the_array[i] < the_array[i-1]:\n",
    "            if not new_run:\n",
    "                runs.append([the_array[i-1]])\n",
    "                new_run.append(the_array[i])\n",
    "            else:\n",
    "                runs.append(new_run)\n",
    "                new_run = []\n",
    "        else:\n",
    "            new_run.append(the_array[i])\n",
    "    for each in runs:\n",
    "        sorted_runs.append(insertion_sort(each))\n",
    "    sorted_array = []\n",
    "    for run in sorted_runs:\n",
    "        sorted_array = merge(sorted_array, run)\n",
    "    return sorted_array"
   ]
  },
  {
   "cell_type": "markdown",
   "metadata": {},
   "source": [
    "## Searching"
   ]
  },
  {
   "cell_type": "markdown",
   "metadata": {},
   "source": [
    "### 1. Binary search"
   ]
  },
  {
   "cell_type": "code",
   "execution_count": null,
   "metadata": {
    "collapsed": true
   },
   "outputs": [],
   "source": [
    "# binary search of target value\n",
    "def binary_search(lst, tgt):\n",
    "    \"\"\"\n",
    "    Binary search\n",
    "    \n",
    "    Parameters\n",
    "    ----------\n",
    "    lst : list of ordered integers\n",
    "    tgt : target value\n",
    "    \n",
    "    Returns\n",
    "    -------\n",
    "    output : position of target value if found\n",
    "    \"\"\"\n",
    "    min = 0\n",
    "    max = len(lst) - 1\n",
    "    \n",
    "    while True:\n",
    "        if max < min:\n",
    "            return -1\n",
    "        m = (min + max) // 2\n",
    "        if lst[m] < tgt:\n",
    "            min = m + 1\n",
    "        elif lst[m] > tgt:\n",
    "            max = m - 1\n",
    "        else:\n",
    "            return m"
   ]
  },
  {
   "cell_type": "code",
   "execution_count": null,
   "metadata": {
    "collapsed": true
   },
   "outputs": [],
   "source": [
    "def binary_search(the_array, item, start, end):\n",
    "    if start == end:\n",
    "        if the_array[start] > item:\n",
    "            return start\n",
    "        else:\n",
    "            return start + 1\n",
    "    if start > end:\n",
    "        return start\n",
    "\n",
    "    mid = (start + end)/ 2\n",
    "    if the_array[mid] < item:\n",
    "        return binary_search(the_array, item, mid + 1, end)\n",
    "    elif the_array[mid] > item:\n",
    "        return binary_search(the_array, item, start, mid - 1)\n",
    "    else:\n",
    "        return mid"
   ]
  },
  {
   "cell_type": "code",
   "execution_count": null,
   "metadata": {
    "collapsed": true
   },
   "outputs": [],
   "source": [
    "a = [1, 5, 8, 10]"
   ]
  },
  {
   "cell_type": "code",
   "execution_count": null,
   "metadata": {
    "collapsed": true
   },
   "outputs": [],
   "source": [
    "print binary_search(a, 5)\n",
    "print binary_search(a, 0)\n",
    "print binary_search(a, 15)"
   ]
  },
  {
   "cell_type": "code",
   "execution_count": null,
   "metadata": {
    "collapsed": true
   },
   "outputs": [],
   "source": []
  }
 ],
 "metadata": {
  "kernelspec": {
   "display_name": "Python 3",
   "language": "python",
   "name": "python3"
  },
  "language_info": {
   "codemirror_mode": {
    "name": "ipython",
    "version": 3
   },
   "file_extension": ".py",
   "mimetype": "text/x-python",
   "name": "python",
   "nbconvert_exporter": "python",
   "pygments_lexer": "ipython3",
   "version": "3.6.1"
  }
 },
 "nbformat": 4,
 "nbformat_minor": 2
}
